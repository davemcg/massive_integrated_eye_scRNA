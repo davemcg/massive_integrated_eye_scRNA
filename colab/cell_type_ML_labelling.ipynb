{
  "nbformat": 4,
  "nbformat_minor": 0,
  "metadata": {
    "accelerator": "GPU",
    "colab": {
      "name": "Auto Label Retinal Cell Types.ipynb",
      "provenance": [],
      "collapsed_sections": [],
      "include_colab_link": true
    },
    "kernelspec": {
      "display_name": "Python 3",
      "language": "python",
      "name": "python3"
    },
    "language_info": {
      "codemirror_mode": {
        "name": "ipython",
        "version": 3
      },
      "file_extension": ".py",
      "mimetype": "text/x-python",
      "name": "python",
      "nbconvert_exporter": "python",
      "pygments_lexer": "ipython3",
      "version": "3.7.3"
    },
    "pycharm": {
      "stem_cell": {
        "cell_type": "raw",
        "metadata": {
          "collapsed": false
        },
        "source": []
      }
    },
    "toc": {
      "base_numbering": 1,
      "nav_menu": {},
      "number_sections": true,
      "sideBar": true,
      "skip_h1_title": false,
      "title_cell": "Table of Contents",
      "title_sidebar": "Contents",
      "toc_cell": false,
      "toc_position": {},
      "toc_section_display": true,
      "toc_window_display": false
    }
  },
  "cells": [
    {
      "cell_type": "markdown",
      "metadata": {
        "id": "view-in-github",
        "colab_type": "text"
      },
      "source": [
        "<a href=\"https://colab.research.google.com/github/davemcg/scEiaD/blob/master/colab/cell_type_ML_labelling.ipynb\" target=\"_parent\"><img src=\"https://colab.research.google.com/assets/colab-badge.svg\" alt=\"Open In Colab\"/></a>"
      ]
    },
    {
      "cell_type": "markdown",
      "metadata": {
        "id": "y4nH3q_rZ0bI"
      },
      "source": [
        "# Auto Label Retinal Cell Types\n",
        "\n",
        "## tldr \n",
        "\n",
        "You can take your (retina) scRNA data and fairly quickly use the scEiaD ML model\n",
        "to auto label your cell types. I say fairly quickly because it is *best* if you re-quantify your data with the same reference and counter (kallisto) that we use. You *could* try using your counts from cellranger/whatever....but uh...stuff might get weird.\n",
        "\n"
      ]
    },
    {
      "cell_type": "markdown",
      "metadata": {
        "id": "a98iQc_Gwe7P"
      },
      "source": [
        "# Install scvi and kallisto-bustools"
      ]
    },
    {
      "cell_type": "code",
      "metadata": {
        "id": "LRTA1XIYZ0bN",
        "pycharm": {
          "name": "#%%\n"
        },
        "colab": {
          "base_uri": "https://localhost:8080/"
        },
        "outputId": "00a8529e-2e45-4d51-9117-9efabf324b9c"
      },
      "source": [
        "import sys\n",
        "import re\n",
        "#if True, will install via pypi, else will install from source\n",
        "stable = True\n",
        "IN_COLAB = \"google.colab\" in sys.modules\n",
        "\n",
        "if IN_COLAB and stable:\n",
        "    !pip install --quiet scvi-tools[tutorials]==0.9.0\n",
        "\n",
        "#!pip install --quiet python==3.8 pandas numpy scikit-learn xgboost==1.3\n",
        "\n",
        "!pip install --quiet kb-python\n"
      ],
      "execution_count": 1,
      "outputs": [
        {
          "output_type": "stream",
          "text": [
            "\u001b[K     |████████████████████████████████| 184kB 17.9MB/s \n",
            "\u001b[K     |████████████████████████████████| 849kB 37.0MB/s \n",
            "\u001b[K     |████████████████████████████████| 133kB 57.5MB/s \n",
            "\u001b[K     |████████████████████████████████| 245kB 42.2MB/s \n",
            "\u001b[K     |████████████████████████████████| 634kB 57.1MB/s \n",
            "\u001b[K     |████████████████████████████████| 81kB 11.2MB/s \n",
            "\u001b[K     |████████████████████████████████| 204kB 58.9MB/s \n",
            "\u001b[K     |████████████████████████████████| 10.3MB 27.3MB/s \n",
            "\u001b[K     |████████████████████████████████| 51kB 7.9MB/s \n",
            "\u001b[K     |████████████████████████████████| 8.7MB 27.2MB/s \n",
            "\u001b[K     |████████████████████████████████| 3.2MB 58.7MB/s \n",
            "\u001b[K     |████████████████████████████████| 1.4MB 50.8MB/s \n",
            "\u001b[K     |████████████████████████████████| 184kB 63.1MB/s \n",
            "\u001b[K     |████████████████████████████████| 829kB 57.1MB/s \n",
            "\u001b[K     |████████████████████████████████| 276kB 30.7MB/s \n",
            "\u001b[K     |████████████████████████████████| 112kB 58.7MB/s \n",
            "\u001b[K     |████████████████████████████████| 51kB 8.4MB/s \n",
            "\u001b[K     |████████████████████████████████| 81kB 11.7MB/s \n",
            "\u001b[K     |████████████████████████████████| 112kB 60.5MB/s \n",
            "\u001b[K     |████████████████████████████████| 1.3MB 50.8MB/s \n",
            "\u001b[K     |████████████████████████████████| 71kB 11.2MB/s \n",
            "\u001b[K     |████████████████████████████████| 1.2MB 50.3MB/s \n",
            "\u001b[K     |████████████████████████████████| 296kB 61.1MB/s \n",
            "\u001b[K     |████████████████████████████████| 143kB 60.5MB/s \n",
            "\u001b[?25h  Building wheel for loompy (setup.py) ... \u001b[?25l\u001b[?25hdone\n",
            "  Building wheel for future (setup.py) ... \u001b[?25l\u001b[?25hdone\n",
            "  Building wheel for PyYAML (setup.py) ... \u001b[?25l\u001b[?25hdone\n",
            "  Building wheel for sinfo (setup.py) ... \u001b[?25l\u001b[?25hdone\n",
            "  Building wheel for umap-learn (setup.py) ... \u001b[?25l\u001b[?25hdone\n",
            "  Building wheel for numpy-groupies (setup.py) ... \u001b[?25l\u001b[?25hdone\n",
            "  Building wheel for pynndescent (setup.py) ... \u001b[?25l\u001b[?25hdone\n",
            "\u001b[K     |████████████████████████████████| 59.1MB 46kB/s \n",
            "\u001b[K     |████████████████████████████████| 13.2MB 253kB/s \n",
            "\u001b[?25h"
          ],
          "name": "stdout"
        }
      ]
    },
    {
      "cell_type": "code",
      "metadata": {
        "colab": {
          "base_uri": "https://localhost:8080/"
        },
        "id": "70wH18FVeyTw",
        "outputId": "b8457318-40b4-47ed-eb9e-9a8592fcd1e2"
      },
      "source": [
        "!pip install --quiet pandas numpy scikit-learn xgboost==1.3.1"
      ],
      "execution_count": 3,
      "outputs": [
        {
          "output_type": "stream",
          "text": [
            "\u001b[K     |████████████████████████████████| 157.5MB 90kB/s \n",
            "\u001b[?25h"
          ],
          "name": "stdout"
        }
      ]
    },
    {
      "cell_type": "markdown",
      "metadata": {
        "id": "238VogqVd14K"
      },
      "source": [
        "# Download our kallisto index\n",
        "As our example set is mouse, we use the  Gencode vM25 transcript reference.\n",
        "\n",
        "The script that makes the idx and t2g file is [here](https://github.com/davemcg/scEiaD/raw/c3a9dd09a1a159b1f489065a3f23a753f35b83c9/src/build_idx_and_t2g_for_colab.sh). This is precomputed as it takes about 30 minutes and 32GB of memory.\n",
        "\n",
        "There's one more wrinkle worth noting: as scEiaD was built across human, mouse, and macaque unified gene names are required. We chose to use the *human* ensembl ID (e.g. CRX is ENSG00000105392) as the base gene naming system. \n",
        "\n",
        "\n",
        "(Download links):\n",
        "```\n",
        "# Mouse\n",
        "https://hpc.nih.gov/~mcgaugheyd/scEiaD/colab/gencode.vM25.transcripts.idx\n",
        "https://hpc.nih.gov/~mcgaugheyd/scEiaD/colab/vM25.tr2gX.humanized.tsv\n",
        "# Human\n",
        "https://hpc.nih.gov/~mcgaugheyd/scEiaD/colab/gencode.v35.transcripts.idx\n",
        "https://hpc.nih.gov/~mcgaugheyd/scEiaD/colab/v35.tr2gX.tsv\n",
        "```\n"
      ]
    },
    {
      "cell_type": "code",
      "metadata": {
        "id": "WC0naIRFwnG_",
        "colab": {
          "base_uri": "https://localhost:8080/"
        },
        "outputId": "d8977ead-c74f-4957-b4c9-bc7e14a8a808"
      },
      "source": [
        "%%time\n",
        "!wget -O idx.idx https://hpc.nih.gov/~mcgaugheyd/scEiaD/colab/gencode.vM25.transcripts.idx\n",
        "!wget -O t2g.txt https://hpc.nih.gov/~mcgaugheyd/scEiaD/colab/vM25.tr2gX.humanized.tsv"
      ],
      "execution_count": 4,
      "outputs": [
        {
          "output_type": "stream",
          "text": [
            "--2021-04-29 12:05:21--  https://hpc.nih.gov/~mcgaugheyd/scEiaD/colab/gencode.vM25.transcripts.idx\n",
            "Resolving hpc.nih.gov (hpc.nih.gov)... 128.231.2.150, 2607:f220:418:4801::2:96\n",
            "Connecting to hpc.nih.gov (hpc.nih.gov)|128.231.2.150|:443... connected.\n",
            "HTTP request sent, awaiting response... 200 OK\n",
            "Length: 2662625893 (2.5G) [application/octet-stream]\n",
            "Saving to: ‘idx.idx’\n",
            "\n",
            "idx.idx             100%[===================>]   2.48G  36.3MB/s    in 35s     \n",
            "\n",
            "2021-04-29 12:05:58 (72.8 MB/s) - ‘idx.idx’ saved [2662625893/2662625893]\n",
            "\n",
            "--2021-04-29 12:05:58--  https://hpc.nih.gov/~mcgaugheyd/scEiaD/colab/vM25.tr2gX.humanized.tsv\n",
            "Resolving hpc.nih.gov (hpc.nih.gov)... 128.231.2.150, 2607:f220:418:4801::2:96\n",
            "Connecting to hpc.nih.gov (hpc.nih.gov)|128.231.2.150|:443... connected.\n",
            "HTTP request sent, awaiting response... 200 OK\n",
            "Length: 22502749 (21M) [application/octet-stream]\n",
            "Saving to: ‘t2g.txt’\n",
            "\n",
            "t2g.txt             100%[===================>]  21.46M  90.2MB/s    in 0.2s    \n",
            "\n",
            "2021-04-29 12:06:00 (90.2 MB/s) - ‘t2g.txt’ saved [22502749/22502749]\n",
            "\n",
            "CPU times: user 377 ms, sys: 71.2 ms, total: 448 ms\n",
            "Wall time: 39.2 s\n"
          ],
          "name": "stdout"
        }
      ]
    },
    {
      "cell_type": "markdown",
      "metadata": {
        "id": "ImcF5LMLdl-Q"
      },
      "source": [
        "# Quantify with kbtools (Kallisto - Bustools wrapper) in one easy step.\n",
        "\n",
        "Going into the vagaries of turning a SRA deposit into a non-borked pair of fastq files is beyond the scope of this document. Plus I would swear a lot. So we just give an example set from a Human organoid retina 10x (version 2) experiment.\n",
        "\n",
        "The Pachter Lab has a discussion of how/where to get public data here: https://colab.research.google.com/github/pachterlab/kallistobustools/blob/master/notebooks/data_download.ipynb\n",
        "\n",
        "If you have your own 10X bam file, then 10X provides a very nice and simple tool to turn it into fastq file here: https://github.com/10XGenomics/bamtofastq\n",
        "\n",
        "To reduce run-time we have taken the first five million reads from this fastq pair.\n",
        "\n",
        "This will take ~3 minutes, depending on the internet speed between Google and our server\n",
        "\n",
        "You can also directly stream the file to improve wall-time, but I was getting periodic errors, so we are doing the simpler thing and downloading each fastq file here first.\n",
        "\n",
        " "
      ]
    },
    {
      "cell_type": "code",
      "metadata": {
        "id": "odWwrzG9b8qJ",
        "colab": {
          "base_uri": "https://localhost:8080/"
        },
        "outputId": "c777cb34-03cf-4379-986c-eae634edaaf0"
      },
      "source": [
        "%%time\n",
        "!wget -O sample_1.fastq.gz https://hpc.nih.gov/~mcgaugheyd/scEiaD/colab/SRR11799731_1.head.fastq.gz\n",
        "!wget -O sample_2.fastq.gz https://hpc.nih.gov/~mcgaugheyd/scEiaD/colab/SRR11799731_2.head.fastq.gz\n",
        "!kb count --overwrite --h5ad -i idx.idx -g t2g.txt -x DropSeq -o output --filter bustools -t 2 \\\n",
        "  sample_1.fastq.gz \\\n",
        "  sample_2.fastq.gz"
      ],
      "execution_count": 5,
      "outputs": [
        {
          "output_type": "stream",
          "text": [
            "--2021-04-29 12:06:31--  https://hpc.nih.gov/~mcgaugheyd/scEiaD/colab/SRR11799731_1.head.fastq.gz\n",
            "Resolving hpc.nih.gov (hpc.nih.gov)... 128.231.2.150, 2607:f220:418:4801::2:96\n",
            "Connecting to hpc.nih.gov (hpc.nih.gov)|128.231.2.150|:443... connected.\n",
            "HTTP request sent, awaiting response... 200 OK\n",
            "Length: 103529059 (99M) [application/octet-stream]\n",
            "Saving to: ‘sample_1.fastq.gz’\n",
            "\n",
            "sample_1.fastq.gz   100%[===================>]  98.73M  90.3MB/s    in 1.1s    \n",
            "\n",
            "2021-04-29 12:06:33 (90.3 MB/s) - ‘sample_1.fastq.gz’ saved [103529059/103529059]\n",
            "\n",
            "--2021-04-29 12:06:33--  https://hpc.nih.gov/~mcgaugheyd/scEiaD/colab/SRR11799731_2.head.fastq.gz\n",
            "Resolving hpc.nih.gov (hpc.nih.gov)... 128.231.2.150, 2607:f220:418:4801::2:96\n",
            "Connecting to hpc.nih.gov (hpc.nih.gov)|128.231.2.150|:443... connected.\n",
            "HTTP request sent, awaiting response... 200 OK\n",
            "Length: 245302496 (234M) [application/octet-stream]\n",
            "Saving to: ‘sample_2.fastq.gz’\n",
            "\n",
            "sample_2.fastq.gz   100%[===================>] 233.94M  97.8MB/s    in 2.4s    \n",
            "\n",
            "2021-04-29 12:06:35 (97.8 MB/s) - ‘sample_2.fastq.gz’ saved [245302496/245302496]\n",
            "\n",
            "[2021-04-29 12:06:36,630]    INFO Using index idx.idx to generate BUS file to output from\n",
            "[2021-04-29 12:06:36,630]    INFO         sample_1.fastq.gz\n",
            "[2021-04-29 12:06:36,630]    INFO         sample_2.fastq.gz\n",
            "[2021-04-29 12:07:17,592]    INFO Sorting BUS file output/output.bus to output/tmp/output.s.bus\n",
            "[2021-04-29 12:07:20,908]    INFO Whitelist not provided\n",
            "[2021-04-29 12:07:20,908]    INFO Generating whitelist output/whitelist.txt from BUS file output/tmp/output.s.bus\n",
            "[2021-04-29 12:07:20,929]    INFO Inspecting BUS file output/tmp/output.s.bus\n",
            "[2021-04-29 12:07:21,695]    INFO Correcting BUS records in output/tmp/output.s.bus to output/tmp/output.s.c.bus with whitelist output/whitelist.txt\n",
            "[2021-04-29 12:07:21,900]    INFO Sorting BUS file output/tmp/output.s.c.bus to output/output.unfiltered.bus\n",
            "[2021-04-29 12:07:24,360]    INFO Generating count matrix output/counts_unfiltered/cells_x_genes from BUS file output/output.unfiltered.bus\n",
            "[2021-04-29 12:07:26,177]    INFO Reading matrix output/counts_unfiltered/cells_x_genes.mtx\n",
            "[2021-04-29 12:07:26,915]    INFO Writing matrix to h5ad output/counts_unfiltered/adata.h5ad\n",
            "[2021-04-29 12:07:27,075]    INFO Filtering with bustools\n",
            "[2021-04-29 12:07:27,075]    INFO Generating whitelist output/filter_barcodes.txt from BUS file output/output.unfiltered.bus\n",
            "[2021-04-29 12:07:27,088]    INFO Correcting BUS records in output/output.unfiltered.bus to output/tmp/output.unfiltered.c.bus with whitelist output/filter_barcodes.txt\n",
            "[2021-04-29 12:07:27,180]    INFO Sorting BUS file output/tmp/output.unfiltered.c.bus to output/output.filtered.bus\n",
            "[2021-04-29 12:07:29,651]    INFO Generating count matrix output/counts_filtered/cells_x_genes from BUS file output/output.filtered.bus\n",
            "[2021-04-29 12:07:31,353]    INFO Reading matrix output/counts_filtered/cells_x_genes.mtx\n",
            "[2021-04-29 12:07:32,041]    INFO Writing matrix to h5ad output/counts_filtered/adata.h5ad\n",
            "CPU times: user 368 ms, sys: 60.4 ms, total: 428 ms\n",
            "Wall time: 1min\n"
          ],
          "name": "stdout"
        }
      ]
    },
    {
      "cell_type": "markdown",
      "metadata": {
        "id": "0VcPiFtAjmbG"
      },
      "source": [
        "\n",
        "# Download models\n",
        "(and our xgboost functions for cell type labelling)\n",
        "\n",
        "The scVI model is the same that we use to create the data for plae.nei.nih.gov\n",
        "\n",
        "The xgboost model is a simplified version that *only* uses the scVI latent dims and omits the Early/Late/RPC cell types and collapses them all into \"RPC\""
      ]
    },
    {
      "cell_type": "code",
      "metadata": {
        "id": "fKv83AN6hcWO",
        "colab": {
          "base_uri": "https://localhost:8080/"
        },
        "outputId": "fc42c3b4-f492-40d9-84e0-73a9809c90da"
      },
      "source": [
        "!wget -O scVI_scEiaD.tgz https://hpc.nih.gov/~mcgaugheyd/scEiaD/2021_03_17/2021_03_17__scVI_scEiaD.tgz\n",
        "!tar -xzf scVI_scEiaD.tgz\n",
        "\n",
        "!wget -O celltype_ML_model.tar https://hpc.nih.gov/~mcgaugheyd/scEiaD/2021_03_17/2021_cell_type_ML_all.tar\n",
        "!tar -xf celltype_ML_model.tar\n",
        "\n",
        "!wget -O celltype_predictor.py https://raw.githubusercontent.com/davemcg/scEiaD/master/src/cell_type_predictor.py\n",
        "\n"
      ],
      "execution_count": 8,
      "outputs": [
        {
          "output_type": "stream",
          "text": [
            "--2021-04-29 12:12:38--  https://hpc.nih.gov/~mcgaugheyd/scEiaD/2021_03_17/2021_03_17__scVI_scEiaD.tgz\n",
            "Resolving hpc.nih.gov (hpc.nih.gov)... 128.231.2.150, 2607:f220:418:4801::2:96\n",
            "Connecting to hpc.nih.gov (hpc.nih.gov)|128.231.2.150|:443... connected.\n",
            "HTTP request sent, awaiting response... 200 OK\n",
            "Length: 12851811 (12M) [application/octet-stream]\n",
            "Saving to: ‘scVI_scEiaD.tgz’\n",
            "\n",
            "scVI_scEiaD.tgz     100%[===================>]  12.26M  36.9MB/s    in 0.3s    \n",
            "\n",
            "2021-04-29 12:12:40 (36.9 MB/s) - ‘scVI_scEiaD.tgz’ saved [12851811/12851811]\n",
            "\n",
            "--2021-04-29 12:12:40--  https://hpc.nih.gov/~mcgaugheyd/scEiaD/2021_03_17/2021_cell_type_ML_all.tar\n",
            "Resolving hpc.nih.gov (hpc.nih.gov)... 128.231.2.150, 2607:f220:418:4801::2:96\n",
            "Connecting to hpc.nih.gov (hpc.nih.gov)|128.231.2.150|:443... connected.\n",
            "HTTP request sent, awaiting response... 200 OK\n",
            "Length: 12359680 (12M) [application/octet-stream]\n",
            "Saving to: ‘celltype_ML_model.tar’\n",
            "\n",
            "celltype_ML_model.t 100%[===================>]  11.79M  39.5MB/s    in 0.3s    \n",
            "\n",
            "2021-04-29 12:12:40 (39.5 MB/s) - ‘celltype_ML_model.tar’ saved [12359680/12359680]\n",
            "\n",
            "--2021-04-29 12:12:40--  https://raw.githubusercontent.com/davemcg/scEiaD/master/src/cell_type_predictor.py\n",
            "Resolving raw.githubusercontent.com (raw.githubusercontent.com)... 185.199.108.133, 185.199.109.133, 185.199.110.133, ...\n",
            "Connecting to raw.githubusercontent.com (raw.githubusercontent.com)|185.199.108.133|:443... connected.\n",
            "HTTP request sent, awaiting response... 200 OK\n",
            "Length: 11534 (11K) [text/plain]\n",
            "Saving to: ‘celltype_predictor.py’\n",
            "\n",
            "celltype_predictor. 100%[===================>]  11.26K  --.-KB/s    in 0s      \n",
            "\n",
            "2021-04-29 12:12:41 (117 MB/s) - ‘celltype_predictor.py’ saved [11534/11534]\n",
            "\n"
          ],
          "name": "stdout"
        }
      ]
    },
    {
      "cell_type": "markdown",
      "metadata": {
        "id": "sMtDJca-SMht"
      },
      "source": [
        "# Python time"
      ]
    },
    {
      "cell_type": "code",
      "metadata": {
        "id": "4VXKwVblMSEd"
      },
      "source": [
        "import anndata\n",
        "import sys\n",
        "import os\n",
        "import numpy as np\n",
        "import pandas as pd\n",
        "import random\n",
        "import scanpy as sc\n",
        "from scipy import sparse\n",
        "import scvi\n",
        "import torch\n",
        "# 2 cores\n",
        "sc.settings.n_jobs = 2\n",
        "# set seeds\n",
        "random.seed(234)\n",
        "scvi.settings.seed = 234\n",
        "\n",
        "# set some args\n",
        "org = 'mouse'\n",
        "n_epochs = 15\n",
        "confidence = 0.5"
      ],
      "execution_count": 38,
      "outputs": []
    },
    {
      "cell_type": "markdown",
      "metadata": {
        "id": "J1H_tCFuxOua"
      },
      "source": [
        "# Load adata\n",
        "And process (mouse processing requires a bit more jiggling that can be skipped if you have human data)"
      ]
    },
    {
      "cell_type": "code",
      "metadata": {
        "id": "O70U0KN8tpie"
      },
      "source": [
        "# load query data\n",
        "adata_query = sc.read_h5ad('output/counts_filtered/adata.h5ad')\n",
        "adata_query.layers[\"counts\"] = adata_query.X.copy()\n",
        "adata_query.layers[\"counts\"] = sparse.csr_matrix(adata_query.layers[\"counts\"])\n",
        "\n",
        "\n",
        "# Set scVI model path\n",
        "scVI_model_dir_path = 'scVIprojectionSO_scEiaD_model/n_features-5000__transform-counts__partition-universe__covariate-batch__method-scVIprojectionSO__dims-8/' \n",
        "# Read in HVG genes used in scVI model\n",
        "var_names = pd.read_csv(scVI_model_dir_path + '/var_names.csv', header = None)\n",
        "# cut down query adata object to use just the var_names used in the scVI model training\n",
        "\n",
        "if org.lower() == 'mouse':\n",
        "    adata_query.var_names = adata_query.var['gene_name']\n",
        "    n_missing_genes = sum(~var_names[0].isin(adata_query.var_names))\n",
        "    dummy_adata = anndata.AnnData(X=sparse.csr_matrix((adata_query.shape[0], n_missing_genes)))\n",
        "    dummy_adata.obs_names = adata_query.obs_names\n",
        "    dummy_adata.var_names = var_names[0][~var_names[0].isin(adata_query.var_names)]\n",
        "    adata_fixed = anndata.concat([adata_query, dummy_adata], axis=1)\n",
        "    adata_query_HVG = adata_fixed[:, var_names[0]]\n"
      ],
      "execution_count": 39,
      "outputs": []
    },
    {
      "cell_type": "markdown",
      "metadata": {
        "id": "hGRYiq6WkjXg"
      },
      "source": [
        "# Run scVI (trained on scEiaD data) \n",
        "Goal: get scEiaD batch corrected latent space for *your* data"
      ]
    },
    {
      "cell_type": "code",
      "metadata": {
        "id": "OqGMJJHXyfDW",
        "colab": {
          "base_uri": "https://localhost:8080/"
        },
        "outputId": "2a1afdc0-12da-426d-b334-28eb69d3111b"
      },
      "source": [
        "adata_query_HVG.obs['batch'] = 'New Data'\n",
        "\n",
        "scvi.data.setup_anndata(adata_query_HVG, batch_key=\"batch\")\n",
        "vae_query = scvi.model.SCVI.load_query_data(\n",
        "    adata_query_HVG, \n",
        "    scVI_model_dir_path\n",
        ")\n",
        "# project scVI latent dims from scEiaD onto query data\n",
        "vae_query.train(max_epochs=n_epochs,  plan_kwargs=dict(weight_decay=0.0))\n",
        "# get the latent dims into the adata\n",
        "adata_query_HVG.obsm[\"X_scVI\"] = vae_query.get_latent_representation()\n"
      ],
      "execution_count": 40,
      "outputs": [
        {
          "output_type": "stream",
          "text": [
            "Trying to set attribute `.obs` of view, copying.\n"
          ],
          "name": "stderr"
        },
        {
          "output_type": "stream",
          "text": [
            "\u001b[34mINFO    \u001b[0m Using batches from adata.obs\u001b[1m[\u001b[0m\u001b[32m\"batch\"\u001b[0m\u001b[1m]\u001b[0m                                               \n",
            "\u001b[34mINFO    \u001b[0m No label_key inputted, assuming all cells have same label                           \n",
            "\u001b[34mINFO    \u001b[0m Using data from adata.X                                                             \n",
            "\u001b[34mINFO    \u001b[0m Computing library size prior per batch                                              \n",
            "\u001b[34mINFO    \u001b[0m Successfully registered anndata object containing \u001b[1;36m1285\u001b[0m cells, \u001b[1;36m5000\u001b[0m vars, \u001b[1;36m1\u001b[0m batches, \n",
            "         \u001b[1;36m1\u001b[0m labels, and \u001b[1;36m0\u001b[0m proteins. Also registered \u001b[1;36m0\u001b[0m extra categorical covariates and \u001b[1;36m0\u001b[0m extra\n",
            "         continuous covariates.                                                              \n",
            "\u001b[34mINFO    \u001b[0m Please do not further modify adata until model is trained.                          \n",
            "\u001b[34mINFO    \u001b[0m Using data from adata.X                                                             \n",
            "\u001b[34mINFO    \u001b[0m Computing library size prior per batch                                              \n",
            "\u001b[34mINFO    \u001b[0m Registered keys:\u001b[1m[\u001b[0m\u001b[32m'X'\u001b[0m, \u001b[32m'batch_indices'\u001b[0m, \u001b[32m'local_l_mean'\u001b[0m, \u001b[32m'local_l_var'\u001b[0m, \u001b[32m'labels'\u001b[0m\u001b[1m]\u001b[0m     \n",
            "\u001b[34mINFO    \u001b[0m Successfully registered anndata object containing \u001b[1;36m1285\u001b[0m cells, \u001b[1;36m5000\u001b[0m vars, \u001b[1;36m42\u001b[0m batches,\n",
            "         \u001b[1;36m1\u001b[0m labels, and \u001b[1;36m0\u001b[0m proteins. Also registered \u001b[1;36m0\u001b[0m extra categorical covariates and \u001b[1;36m0\u001b[0m extra\n",
            "         continuous covariates.                                                              \n"
          ],
          "name": "stdout"
        },
        {
          "output_type": "stream",
          "text": [
            "GPU available: True, used: True\n",
            "TPU available: False, using: 0 TPU cores\n",
            "LOCAL_RANK: 0 - CUDA_VISIBLE_DEVICES: [0]\n"
          ],
          "name": "stderr"
        },
        {
          "output_type": "stream",
          "text": [
            "Epoch 15/15: 100%|██████████| 15/15 [00:01<00:00,  8.50it/s, loss=245, v_num=1]\n"
          ],
          "name": "stdout"
        }
      ]
    },
    {
      "cell_type": "markdown",
      "metadata": {
        "id": "A2PcDudixqTt"
      },
      "source": [
        "# Get Cell Type predictions\n",
        "(this xgboost model does NOT use the organim or Age information, but as those field were often used by use, they got hard-coded in. So we will put dummy values in)."
      ]
    },
    {
      "cell_type": "code",
      "metadata": {
        "id": "3_RxbfnKJYtP",
        "colab": {
          "base_uri": "https://localhost:8080/"
        },
        "outputId": "9e81e1ed-745d-4d1f-9ba9-b9e21ff152cc"
      },
      "source": [
        "# extract latent dimensions\n",
        "obs=pd.DataFrame(adata_query_HVG.obs)\n",
        "obsm=pd.DataFrame(adata_query_HVG.obsm[\"X_scVI\"])\n",
        "features = list(obsm.columns)\n",
        "obsm.index = obs.index.values\n",
        "obsm['Barcode'] = obsm.index\n",
        "obsm['Age'] = 1000\n",
        "obsm['organism'] = 'x'\n",
        "# xgboost ML time\n",
        "from celltype_predictor import *\n",
        "\n",
        "\n",
        "CT_predictions = scEiaD_classifier_predict(inputMatrix=obsm, \n",
        "                               labelIdCol='ID', \n",
        "                               labelNameCol='CellType',  \n",
        "                               trainedModelFile= os.getcwd() + '/2021_cell_type_ML_all',\n",
        "                               featureCols=features,  \n",
        "                               predProbThresh=confidence)"
      ],
      "execution_count": 41,
      "outputs": [
        {
          "output_type": "stream",
          "text": [
            "\n",
            "Loading Data...\n",
            "\n",
            "Predicting Data...\n",
            "\n",
            "19 samples Failed to meet classification threshold of 0.5\n"
          ],
          "name": "stdout"
        }
      ]
    },
    {
      "cell_type": "markdown",
      "metadata": {
        "id": "ZyEqiGQ8pJzD"
      },
      "source": [
        "# What do we have?"
      ]
    },
    {
      "cell_type": "code",
      "metadata": {
        "id": "PJyOL59_nAIQ",
        "colab": {
          "base_uri": "https://localhost:8080/"
        },
        "outputId": "793cef8c-c056-4059-d20d-583f13118584"
      },
      "source": [
        "CT_predictions['CellType'].value_counts()"
      ],
      "execution_count": 42,
      "outputs": [
        {
          "output_type": "execute_result",
          "data": {
            "text/plain": [
              "Rods                        707\n",
              "Bipolar Cells               224\n",
              "Amacrine Cells              115\n",
              "Muller Glia                 101\n",
              "Cones                        50\n",
              "Retinal Ganglion Cells       36\n",
              "None                         19\n",
              "Endothelial                  14\n",
              "Rod Bipolar Cells             9\n",
              "Red Blood Cells               3\n",
              "Fibroblasts                   2\n",
              "RPE                           1\n",
              "Photoreceptor Precursors      1\n",
              "Macrophage                    1\n",
              "Horizontal Cells              1\n",
              "Vein                          1\n",
              "Name: CellType, dtype: int64"
            ]
          },
          "metadata": {
            "tags": []
          },
          "execution_count": 42
        }
      ]
    }
  ]
}